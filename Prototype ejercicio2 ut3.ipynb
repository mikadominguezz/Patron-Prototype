{
 "cells": [
  {
   "cell_type": "code",
   "execution_count": 8,
   "id": "bb7c4593",
   "metadata": {
    "language_info": {
     "name": "polyglot-notebook"
    },
    "polyglot_notebook": {
     "kernelName": "csharp"
    }
   },
   "outputs": [],
   "source": [
    "public abstract class GameUnit\n",
    "{\n",
    "    public int Health { get; set; }\n",
    "    public int Attack { get; set; }\n",
    "    public int Defense { get; set; }\n",
    "\n",
    "    public virtual void LoadResources()\n",
    "    {\n",
    "        Console.WriteLine(\"Loading resources...\");\n",
    "    }\n",
    "}"
   ]
  },
  {
   "cell_type": "code",
   "execution_count": 9,
   "id": "4da89775",
   "metadata": {
    "language_info": {
     "name": "polyglot-notebook"
    },
    "polyglot_notebook": {
     "kernelName": "csharp"
    }
   },
   "outputs": [],
   "source": [
    "public class Archer : GameUnit\n",
    "{\n",
    "    public Archer()\n",
    "    {\n",
    "        LoadResources();\n",
    "        Health = 100;\n",
    "        Attack = 15;\n",
    "        Defense = 5;\n",
    "    }\n",
    "\n",
    "    public GameUnit ShallowCopy()\n",
    "    {\n",
    "        return (Archer) this.MemberwiseClone();\n",
    "    }\n",
    "}"
   ]
  },
  {
   "cell_type": "code",
   "execution_count": 10,
   "id": "4e02a85b",
   "metadata": {
    "language_info": {
     "name": "polyglot-notebook"
    },
    "polyglot_notebook": {
     "kernelName": "csharp"
    }
   },
   "outputs": [
    {
     "name": "stdout",
     "output_type": "stream",
     "text": [
      "Loading resources...\n",
      "Submission#8+Archer\n",
      "Submission#8+Archer\n"
     ]
    }
   ],
   "source": [
    "Archer p1 = new Archer();\n",
    "Archer p2 = (Archer)p1.ShallowCopy();\n",
    "\n",
    "Console.WriteLine(p1);\n",
    "Console.WriteLine(p2);\n",
    "\n"
   ]
  }
 ],
 "metadata": {
  "kernelspec": {
   "display_name": ".NET (C#)",
   "language": "C#",
   "name": ".net-csharp"
  },
  "language_info": {
   "name": "polyglot-notebook"
  },
  "polyglot_notebook": {
   "kernelInfo": {
    "defaultKernelName": "csharp",
    "items": [
     {
      "aliases": [],
      "name": "csharp"
     }
    ]
   }
  }
 },
 "nbformat": 4,
 "nbformat_minor": 5
}
